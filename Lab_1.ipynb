{
  "nbformat": 4,
  "nbformat_minor": 0,
  "metadata": {
    "colab": {
      "name": "Copy of Lab_1.ipynb",
      "version": "0.3.2",
      "provenance": [],
      "collapsed_sections": [],
      "include_colab_link": true
    },
    "kernelspec": {
      "name": "python3",
      "display_name": "Python 3"
    },
    "accelerator": "GPU"
  },
  "cells": [
    {
      "cell_type": "markdown",
      "metadata": {
        "id": "view-in-github",
        "colab_type": "text"
      },
      "source": [
        "<a href=\"https://colab.research.google.com/github/gdg-ml-team/ioExtended/blob/master/Lab_1.ipynb\" target=\"_parent\"><img src=\"https://colab.research.google.com/assets/colab-badge.svg\" alt=\"Open In Colab\"/></a>"
      ]
    },
    {
      "cell_type": "markdown",
      "metadata": {
        "id": "HWp7yeYKTuso",
        "colab_type": "text"
      },
      "source": [
        "#**Learning Objectives:**\n",
        "  * Learn fundamental TensorFlow concepts\n",
        "  * Load the data.\n",
        "  * Define the architecture of the model and what is a neural network.\n",
        "  * Train the model.\n",
        "  *  Making some predictions for evaluating the trained model.\n",
        "  * Learn about useful tool Tensorboard.\n",
        "  \n",
        "  "
      ]
    },
    {
      "cell_type": "markdown",
      "metadata": {
        "id": "zoTjmpNMQFdg",
        "colab_type": "text"
      },
      "source": [
        "## Classification Example\n",
        "\n",
        "> [Visual example](http://playground.tensorflow.org/#activation=tanh&batchSize=10&dataset=gauss&regDataset=reg-plane&learningRate=0.03&regularizationRate=0&noise=0&networkShape=4,2&seed=0.20090&showTestData=false&discretize=false&percTrainData=50&x=true&y=true&xTimesY=false&xSquared=false&ySquared=false&cosX=false&sinX=false&cosY=false&sinY=false&collectStats=false&problem=classification&initZero=false&hideText=false)\n",
        "\n",
        "\n",
        "\n"
      ]
    },
    {
      "cell_type": "markdown",
      "metadata": {
        "id": "-Sr-H5ltZ8S7",
        "colab_type": "text"
      },
      "source": [
        "\n",
        "\n",
        "1.   **Import requirements**\n"
      ]
    },
    {
      "cell_type": "code",
      "metadata": {
        "id": "Dbq2O5BKPz8o",
        "colab_type": "code",
        "colab": {}
      },
      "source": [
        "#load the necessary libraries\n",
        "import tensorflow as tf\n",
        "import matplotlib.pyplot as plt\n",
        "import numpy as np\n"
      ],
      "execution_count": 0,
      "outputs": []
    },
    {
      "cell_type": "markdown",
      "metadata": {
        "id": "XRs-0q7bVWkL",
        "colab_type": "text"
      },
      "source": [
        "\n",
        "2.  **Input Data**\n",
        "\n",
        "\n",
        "\n"
      ]
    },
    {
      "cell_type": "code",
      "metadata": {
        "id": "pAFQ75LrXdwB",
        "colab_type": "code",
        "outputId": "7619af6b-49b3-4b4e-ed53-f39befc1aa96",
        "colab": {
          "base_uri": "https://localhost:8080/",
          "height": 582
        }
      },
      "source": [
        "# load the dataset \n",
        "mnist = tf.keras.datasets.mnist\n",
        "(x_train, y_train),(x_test, y_test) = mnist.load_data()\n",
        "#we can use the pyplot library to draw the image so we know what the dataset looks like\n",
        "plt.figure(figsize=(10,10))\n",
        "for i in range(25):\n",
        "    plt.subplot(5,5,i+1)\n",
        "    plt.xticks([])\n",
        "    plt.yticks([])\n",
        "    plt.grid(False)\n",
        "    plt.imshow(x_train[i])\n",
        "plt.show()"
      ],
      "execution_count": 0,
      "outputs": [
        {
          "output_type": "display_data",
          "data": {
            "image/png": "[encoded data removed]",
            "text/plain": [
              "<Figure size 720x720 with 25 Axes>"
            ]
          },
          "metadata": {
            "tags": []
          }
        }
      ]
    },
    {
      "cell_type": "code",
      "metadata": {
        "id": "di1tPs01Sa0k",
        "colab_type": "code",
        "colab": {}
      },
      "source": [
        "# Normalizing (rescale ) the images to the range of [0., 1.]\n",
        "x_train, x_test = x_train / 255.0, x_test / 255.0"
      ],
      "execution_count": 0,
      "outputs": []
    },
    {
      "cell_type": "markdown",
      "metadata": {
        "id": "Ogr1k5iTaddB",
        "colab_type": "text"
      },
      "source": [
        "3.  **Bulid Model**\n",
        "\n",
        "\n"
      ]
    },
    {
      "cell_type": "code",
      "metadata": {
        "id": "uDnBZ61xYM4Y",
        "colab_type": "code",
        "outputId": "7ae60e56-2fc0-4b1d-95a6-eca7900a66b7",
        "colab": {
          "base_uri": "https://localhost:8080/",
          "height": 370
        }
      },
      "source": [
        "model = tf.keras.models.Sequential([\n",
        "  # input: images of size 28x28 pixels \n",
        "  tf.keras.layers.Flatten(input_shape=x_train[0].shape),\n",
        "  tf.keras.layers.Dense(128, activation='relu'),\n",
        "  tf.keras.layers.Dense(128, activation='relu'),\n",
        "  # output: classifying into 10 categories\n",
        "  tf.keras.layers.Dense(10, activation='softmax')\n",
        "])\n",
        "model.summary()# list the summary of the Layers (type), Output, Shape and Params "
      ],
      "execution_count": 0,
      "outputs": [
        {
          "output_type": "stream",
          "text": [
            "WARNING:tensorflow:From /usr/local/lib/python3.6/dist-packages/tensorflow/python/ops/resource_variable_ops.py:435: colocate_with (from tensorflow.python.framework.ops) is deprecated and will be removed in a future version.\n",
            "Instructions for updating:\n",
            "Colocations handled automatically by placer.\n",
            "_________________________________________________________________\n",
            "Layer (type)                 Output Shape              Param #   \n",
            "=================================================================\n",
            "flatten (Flatten)            (None, 784)               0         \n",
            "_________________________________________________________________\n",
            "dense (Dense)                (None, 128)               100480    \n",
            "_________________________________________________________________\n",
            "dense_1 (Dense)              (None, 128)               16512     \n",
            "_________________________________________________________________\n",
            "dense_2 (Dense)              (None, 10)                1290      \n",
            "=================================================================\n",
            "Total params: 118,282\n",
            "Trainable params: 118,282\n",
            "Non-trainable params: 0\n",
            "_________________________________________________________________\n"
          ],
          "name": "stdout"
        }
      ]
    },
    {
      "cell_type": "markdown",
      "metadata": {
        "id": "YOWrsIKc-C0R",
        "colab_type": "text"
      },
      "source": [
        "4. **Compile the model**"
      ]
    },
    {
      "cell_type": "code",
      "metadata": {
        "id": "J-5SZOh2-DUM",
        "colab_type": "code",
        "colab": {}
      },
      "source": [
        "model.compile(optimizer='adam',\n",
        "              loss='sparse_categorical_crossentropy',\n",
        "              metrics=['accuracy'])"
      ],
      "execution_count": 0,
      "outputs": []
    },
    {
      "cell_type": "markdown",
      "metadata": {
        "id": "5Lzfaj-Jajnd",
        "colab_type": "text"
      },
      "source": [
        "5.  ** Train the Model**"
      ]
    },
    {
      "cell_type": "code",
      "metadata": {
        "id": "DbVqCUZSYUFn",
        "colab_type": "code",
        "outputId": "9ece0490-f3ee-4f6d-dfc4-38f195fcab05",
        "colab": {
          "base_uri": "https://localhost:8080/",
          "height": 220
        }
      },
      "source": [
        "model.fit(x_train, y_train, epochs=5) # we use (model.fit) for training the model\n"
      ],
      "execution_count": 0,
      "outputs": [
        {
          "output_type": "stream",
          "text": [
            "Epoch 1/5\n",
            "60000/60000 [==============================] - 6s 100us/sample - loss: 0.2380 - acc: 0.9302\n",
            "Epoch 2/5\n",
            "60000/60000 [==============================] - 6s 96us/sample - loss: 0.0992 - acc: 0.9700\n",
            "Epoch 3/5\n",
            "60000/60000 [==============================] - 7s 112us/sample - loss: 0.0674 - acc: 0.9790\n",
            "Epoch 4/5\n",
            "60000/60000 [==============================] - 7s 108us/sample - loss: 0.0536 - acc: 0.9827\n",
            "Epoch 5/5\n",
            "60000/60000 [==============================] - 6s 102us/sample - loss: 0.0410 - acc: 0.9866\n"
          ],
          "name": "stdout"
        },
        {
          "output_type": "execute_result",
          "data": {
            "text/plain": [
              "<tensorflow.python.keras.callbacks.History at 0x7fdbdc12bda0>"
            ]
          },
          "metadata": {
            "tags": []
          },
          "execution_count": 6
        }
      ]
    },
    {
      "cell_type": "markdown",
      "metadata": {
        "id": "jyYCe51HarP9",
        "colab_type": "text"
      },
      "source": [
        "6.  **Evaluatet accuracy**"
      ]
    },
    {
      "cell_type": "code",
      "metadata": {
        "id": "N2pLEkHRYaRo",
        "colab_type": "code",
        "outputId": "2c3e70a4-efac-4e6c-d25a-a82b619e5f32",
        "colab": {
          "base_uri": "https://localhost:8080/",
          "height": 109
        }
      },
      "source": [
        "# evaluate and print test accuracy\n",
        "score = model.evaluate(x_test, y_test)\n",
        "print('\\n', 'Test loss:', score[0])\n",
        "print('\\n', 'Test accuracy:', score[1])"
      ],
      "execution_count": 0,
      "outputs": [
        {
          "output_type": "stream",
          "text": [
            "10000/10000 [==============================] - 0s 49us/sample - loss: 0.0734 - acc: 0.9781\n",
            "\n",
            " Test loss: 0.0734094840225298\n",
            "\n",
            " Test accuracy: 0.9781\n"
          ],
          "name": "stdout"
        }
      ]
    },
    {
      "cell_type": "markdown",
      "metadata": {
        "id": "ClenjUofgu1o",
        "colab_type": "text"
      },
      "source": [
        "7. **Predict**"
      ]
    },
    {
      "cell_type": "code",
      "metadata": {
        "id": "qkWGOx5yq6wD",
        "colab_type": "code",
        "outputId": "bcbd2670-b1b0-4c9b-a050-36d3a63da2fa",
        "colab": {
          "base_uri": "https://localhost:8080/",
          "height": 324
        }
      },
      "source": [
        "# let us choose a random image from the x_test dataset\n",
        "random= 56 # put any random index. Note it should be in the range\n",
        "predict = model.predict(x_test) # get predictions on the test set by using (model.predict)\n",
        "value_of_prediction = np.argmax(predict[random])# argmax returns the indices of the maximum values along an axis\n",
        "print('\\n', 'The predicted number is :',value_of_prediction)\n",
        "plt.imshow(x_test[random])#show if the prediction matches the real image\n"
      ],
      "execution_count": 0,
      "outputs": [
        {
          "output_type": "stream",
          "text": [
            "\n",
            " The predicted number is : 4\n"
          ],
          "name": "stdout"
        },
        {
          "output_type": "execute_result",
          "data": {
            "text/plain": [
              "<matplotlib.image.AxesImage at 0x7fdbaffec0b8>"
            ]
          },
          "metadata": {
            "tags": []
          },
          "execution_count": 8
        },
        {
          "output_type": "display_data",
          "data": {
            "image/png": "[encoded data removed]",
            "text/plain": [
              "<Figure size 432x288 with 1 Axes>"
            ]
          },
          "metadata": {
            "tags": []
          }
        }
      ]
    },
    {
      "cell_type": "markdown",
      "metadata": {
        "id": "Zgm6R92adajO",
        "colab_type": "text"
      },
      "source": [
        "##Tensorboard\n",
        "TensorBoard is a suite of visualization tools to make it easier to understand, debug, and optimize TensorFlow programs"
      ]
    },
    {
      "cell_type": "code",
      "metadata": {
        "id": "-9gpUVUySIe0",
        "colab_type": "code",
        "outputId": "6a4ffa70-122e-442e-beb6-8b36d2496438",
        "colab": {
          "base_uri": "https://localhost:8080/",
          "height": 109
        }
      },
      "source": [
        "!pip install tensorboardcolab\n",
        "from tensorboardcolab import * \n",
        "tbc = TensorBoardColab()\n",
        "writer = tbc.get_writer()\n",
        "writer.add_graph(tf.get_default_graph())\n",
        "writer.flush()"
      ],
      "execution_count": 0,
      "outputs": [
        {
          "output_type": "stream",
          "text": [
            "Requirement already satisfied: tensorboardcolab in /usr/local/lib/python3.6/dist-packages (0.0.22)\n"
          ],
          "name": "stdout"
        },
        {
          "output_type": "stream",
          "text": [
            "Using TensorFlow backend.\n"
          ],
          "name": "stderr"
        },
        {
          "output_type": "stream",
          "text": [
            "Wait for 8 seconds...\n",
            "TensorBoard link:\n",
            "https://ba038ff1.ngrok.io\n"
          ],
          "name": "stdout"
        }
      ]
    },
    {
      "cell_type": "markdown",
      "metadata": {
        "id": "JdOdgqVr-iG-",
        "colab_type": "text"
      },
      "source": [
        "Now in TF version 2.0 , TensorBoard can be used directly within notebook experiences such as Colab and Jupyter. This can be helpful for sharing results, integrating TensorBoard into existing workflows, and using TensorBoard without installing anything locally. [try it ](https://colab.research.google.com/github/tensorflow/tensorboard/blob/master/docs/r2/tensorboard_in_notebooks.ipynb)"
      ]
    },
    {
      "cell_type": "markdown",
      "metadata": {
        "id": "vMj4bRvg_SGu",
        "colab_type": "text"
      },
      "source": [
        "# Exercises\n",
        "\n",
        "Reset All runtimes before you start doing your exercises\n",
        "\n",
        ">**Runtime >> Reset All runtimes**"
      ]
    },
    {
      "cell_type": "code",
      "metadata": {
        "id": "ZgNfnzoc_Tw6",
        "colab_type": "code",
        "colab": {}
      },
      "source": [
        "\n",
        "# TODO: import tensorflow, matplotlib.pyplot, and numpy library\n",
        "# write your code here\n",
        "\n",
        "# TODO : load the dataset\n",
        "mnist_dataset = tf.keras.datasets.mnist\n",
        "(x_train_set, y_train_set),(x_test_set, y_test_set) = # write your code here\n",
        "\n",
        "\n",
        "# TODO : normalizing the images\n",
        "# write your code here\n",
        "\n",
        "# TODO : build your model\n",
        "new_model = # write your code here\n",
        "\n",
        "# TODO : compile the model\n",
        "# write your code here\n",
        "\n",
        "# TODO : train your model\n",
        "# write your code here\n",
        "\n",
        "# TODO : evaluate and print your test accuracy\n",
        "new_score = # write your code here\n"
      ],
      "execution_count": 0,
      "outputs": []
    }
  ]
}