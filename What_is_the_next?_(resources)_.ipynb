{
  "nbformat": 4,
  "nbformat_minor": 0,
  "metadata": {
    "colab": {
      "name": "What is the next? (resources) .ipynb",
      "version": "0.3.2",
      "provenance": [],
      "collapsed_sections": [],
      "include_colab_link": true
    },
    "kernelspec": {
      "name": "python3",
      "display_name": "Python 3"
    }
  },
  "cells": [
    {
      "cell_type": "markdown",
      "metadata": {
        "id": "view-in-github",
        "colab_type": "text"
      },
      "source": [
        "<a href=\"https://colab.research.google.com/github/gdg-ml-team/ioExtended/blob/master/What_is_the_next%3F_(resources)_.ipynb\" target=\"_parent\"><img src=\"https://colab.research.google.com/assets/colab-badge.svg\" alt=\"Open In Colab\"/></a>"
      ]
    },
    {
      "cell_type": "markdown",
      "metadata": {
        "id": "f5siFELHOZwG",
        "colab_type": "text"
      },
      "source": [
        "\n",
        "\n",
        "#Want to learn more?\n",
        "    \n",
        "    "
      ]
    },
    {
      "cell_type": "markdown",
      "metadata": {
        "id": "INWg2EckVr6S",
        "colab_type": "text"
      },
      "source": [
        "# Read\n",
        "\n",
        "[Tensorflow.org](https://www.tensorflow.org/)\n",
        "\n",
        "\n",
        "[Machine Learning Crash Course](https://developers.google.com/machine-learning/crash-course/)"
      ]
    },
    {
      "cell_type": "markdown",
      "metadata": {
        "id": "Ct4hIR-rOgqi",
        "colab_type": "text"
      },
      "source": [
        "#   Coursera\n",
        "\n",
        "\n",
        "[Serverless Machine Learning with Tensorflow on Google Cloud Platform](https://www.coursera.org/learn/serverless-machine-learning-gcp)\n",
        "\n",
        "[TensorFlow in Practice Specialization](https://www.coursera.org/specializations/tensorflow-in-practice?utm_source=deeplearningai&utm_medium=institutions&utm_campaign=TFWebsiteTFSHomepageButton)\n",
        "\n",
        "\n",
        "\n",
        "[Machine Learning with TensorFlow on Google Cloud Platform Specialization](https://www.coursera.org/specializations/machine-learning-tensorflow-gcp)\n",
        "\n",
        "\n",
        "# Udacity\n",
        "\n",
        "[Intro to TensorFlow for Deep Learning\n",
        "byTensorFlow](https://www.udacity.com/course/intro-to-tensorflow-for-deep-learning--ud187)\n",
        "\n",
        "[Become a Machine Learning Engineer](https://www.udacity.com/course/machine-learning-engineer-nanodegree--nd009t)"
      ]
    },
    {
      "cell_type": "markdown",
      "metadata": {
        "id": "wWEDG_g-TPr3",
        "colab_type": "text"
      },
      "source": [
        "# YouTube\n",
        "[Tensorflow](https://www.youtube.com/tensorflow/)\n",
        "\n",
        "[sentdex](https://www.youtube.com/watch?v=wQ8BIBpya2k&list=PLQVvvaa0QuDfhTox0AjmQ6tvTgMBZBEXN)"
      ]
    }
  ]
}